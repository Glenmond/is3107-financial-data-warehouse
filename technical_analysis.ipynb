{
 "cells": [
  {
   "cell_type": "code",
   "execution_count": null,
   "id": "2dca45ca",
   "metadata": {},
   "outputs": [],
   "source": [
    "import pandas as pd\n",
    "import numpy as np\n",
    "import ta"
   ]
  },
  {
   "cell_type": "markdown",
   "id": "2d631835",
   "metadata": {},
   "source": [
    "## Technical Analysis (Momentum Indicators)\n",
    "1. Relative Strength Index (RSI)"
   ]
  },
  {
   "cell_type": "markdown",
   "id": "3a54ecac",
   "metadata": {},
   "source": [
    "### Relative Strength Index\n",
    "RSI is a technical indicator and is intended to chart the current and historical strength or weakness of a stock or market based on the closing prices of a recent trading period. It compares the magnitude of recent gains and losses over a specified time period to measure speed and change of price movements of a security. It is primarily used to attempt to identify overbought or oversold conditions in the trading of an asset. If value above 70 == overbought or overvalued (slide below 70 means bearish). If value below 30 == oversold or undervalued (bullish signals)"
   ]
  },
  {
   "cell_type": "code",
   "execution_count": null,
   "id": "d1831b6e",
   "metadata": {},
   "outputs": [],
   "source": [
    "for i in [5, 14, 50]:\n",
    "    df[f'rsi_{i}'] = ta.momentum.rsi(df['price'], i)\n",
    "    df[f'rsi_{i}'] = df[f'rsi_{i}'].apply(lambda x: 1 if x < 30 else 0)"
   ]
  },
  {
   "cell_type": "markdown",
   "id": "e49aa931",
   "metadata": {},
   "source": [
    "## Technical Analysis (Volume Indicators)\n",
    "1. Ease of Movement\n",
    "2. Volume Weighted Average Price (VWAP)"
   ]
  },
  {
   "cell_type": "markdown",
   "id": "f2b8d056",
   "metadata": {},
   "source": [
    "### Ease of Movement\n",
    "EVM is a volume based oscillator, including the ease with which the prices rise or fall taking into account the volume of the security. Example, price rise on low volume means prices advanced with relative ease, indicating little selling pressure. Positive EVM values imply that the market is moving higher with ease, while negative values indicate an easy decline. Purpose: used to confirm bullish or bearish trend. Increase in price with positive EVM confirms bullish trend, decrease in price with negative EVM confirms bearish trend."
   ]
  },
  {
   "cell_type": "code",
   "execution_count": null,
   "id": "9529d0cc",
   "metadata": {},
   "outputs": [],
   "source": [
    "for i in [5, 14, 50]:\n",
    "    df[f'evm_{i}'] = ta.volume.ease_of_movement(df['high'], df['low'], df['cvol'], i)\n",
    "    df[f'evm_{i}'] = df[f'rsi_{i}'].apply(lambda x: 1 if x < 30 else 0)"
   ]
  },
  {
   "cell_type": "markdown",
   "id": "e3155bbf",
   "metadata": {},
   "source": [
    "## Technical Analysis (Volatility Indicators)\n",
    "1. Bollinger Bands"
   ]
  },
  {
   "cell_type": "markdown",
   "id": "d61fbbb3",
   "metadata": {},
   "source": [
    "### Bollinger Bands\n",
    "Bollinger bands are often use to determine overbought and oversold conditions. Indicator focus on price and volatility (could be too biased). Rules: when the price breaks below the band, tend to bounce up, hence it is a buy strategy. When price breaks above the upper band, overbough and due for a pullback. Relate to a mean reversion concept of price. FYI, the bands adapt to price expanding and contracting as volatility increases and decreases."
   ]
  },
  {
   "cell_type": "code",
   "execution_count": null,
   "id": "a7c579e1",
   "metadata": {},
   "outputs": [],
   "source": [
    "for i in [5, 14, 50]:\n",
    "    \n",
    "    # bollinger high band - indicator shows if the band has been surpassed\n",
    "    df[f'bol_hband_{i}'] = ta.volatility.bollinger_hband_indicator(df['price'], i)\n",
    "    \n",
    "    # bollinger low band - indicator shows if the band has been surpassed\n",
    "    df[f'bol_lband_{i}'] = ta.volatility.bollinger_lband_indicator(df['price'], i)\n",
    "    \n",
    "    # bollinger band width - indicates volatility (falling --> lower volatility, increasing --> higher volatility)\n",
    "    df[f'bol_wband_{i}'] = ta.volatility.bollinger_wband(df['price'], i)\n",
    "    \n",
    "    # buy signals generated from bollinger bands rules, 1 means buy, 0 means sell\n",
    "    df[f'bol_buy_{i}'] = df[f'bol_lband_{i}'].apply(lambda x: 1 if x > 0 else 0)"
   ]
  },
  {
   "cell_type": "markdown",
   "id": "780b4909",
   "metadata": {},
   "source": [
    "## Technical Analysis (Trend Indicators)\n",
    "1. Average Directional Movement Index\n",
    "2. Moving Average Convergence Divergence (MACD)"
   ]
  },
  {
   "cell_type": "markdown",
   "id": "a4f8dae4",
   "metadata": {},
   "source": [
    "### Average Directional Movement Index\n",
    "ADX measures the strength of a trend. The higher the magnitude of ADX, the stronger the trend. Feature Engineering: ADX <=25: No trend, 25<ADX<=50: Trending, ADX > 50: Strong Trending"
   ]
  },
  {
   "cell_type": "code",
   "execution_count": null,
   "id": "55e37cfd",
   "metadata": {},
   "outputs": [],
   "source": [
    "for i in [5, 14, 50]:\n",
    "    df[f'adx_{i}'] = ta.trend.adx(df['high'], df['low'], df['cvol'], window=i)"
   ]
  },
  {
   "cell_type": "markdown",
   "id": "b1f5e76e",
   "metadata": {},
   "source": [
    "### Moving Average Convergence Divergence (MACD)\n",
    "MACD shows the relationship between two exponential moving averages of a stock price. Comparing MACD line against signal line (ie, 9 day EMA). MACD Diff indicates that if the value is positive, it signals a bullish outlook and positive momentum. Else, negative indicates a bearish outlook and negative momentum."
   ]
  },
  {
   "cell_type": "code",
   "execution_count": null,
   "id": "4f4e3759",
   "metadata": {},
   "outputs": [],
   "source": [
    "df[f'macd_12_26'] = ta.trend.macd_diff(df['price'])"
   ]
  }
 ],
 "metadata": {
  "kernelspec": {
   "display_name": "Python 3 (ipykernel)",
   "language": "python",
   "name": "python3"
  },
  "language_info": {
   "codemirror_mode": {
    "name": "ipython",
    "version": 3
   },
   "file_extension": ".py",
   "mimetype": "text/x-python",
   "name": "python",
   "nbconvert_exporter": "python",
   "pygments_lexer": "ipython3",
   "version": "3.7.11"
  }
 },
 "nbformat": 4,
 "nbformat_minor": 5
}
